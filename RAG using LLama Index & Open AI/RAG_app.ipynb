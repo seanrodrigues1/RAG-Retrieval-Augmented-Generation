{
 "cells": [
  {
   "cell_type": "code",
   "execution_count": 1,
   "metadata": {},
   "outputs": [],
   "source": [
    "from llama_index import VectorStoreIndex,SimpleDirectoryReader\n",
    "\n",
    "documents=SimpleDirectoryReader(\"domain_data\").load_data()"
   ]
  },
  {
   "cell_type": "code",
   "execution_count": 2,
   "metadata": {},
   "outputs": [
    {
     "data": {
      "text/plain": [
       "[Document(id_='a50491f6-653e-4854-9df2-9a008c02c921', embedding=None, metadata={'page_label': '1', 'file_name': 'SEAN_INC_CURRENT_PRODUCTS.pdf', 'file_path': 'domain_data\\\\SEAN_INC_CURRENT_PRODUCTS.pdf', 'file_type': 'application/pdf', 'file_size': 84695, 'creation_date': '2024-02-03', 'last_modified_date': '2024-02-03', 'last_accessed_date': '2024-02-03'}, excluded_embed_metadata_keys=['file_name', 'file_type', 'file_size', 'creation_date', 'last_modified_date', 'last_accessed_date'], excluded_llm_metadata_keys=['file_name', 'file_type', 'file_size', 'creation_date', 'last_modified_date', 'last_accessed_date'], relationships={}, text='SEAN  INC CURRENT PRODUCTS  \\n \\nThe following document contains information on the product offerings of Sean Inc a futuristic automobil e \\ncompany . \\n \\nSOLOROID  \\nSoloroid  is a futuristic flying car developed by SEAN INC . It was released on June  2nd, 2023. Soloroid is \\ncompletely electric and requires a charge time of about 2 hours. User can choose drive mode or fly mode  on \\njust a press of a button.  \\n \\nTESLU MODEL K  \\nTeslu model K is futuristic car which can turn into a boat . It consists of sensors which automatically detects \\nwater bodies and makes and adjustment to the tire to stay afloat . It was released on December 1st, 2021 . ', start_char_idx=None, end_char_idx=None, text_template='{metadata_str}\\n\\n{content}', metadata_template='{key}: {value}', metadata_seperator='\\n'),\n",
       " Document(id_='a8baddb3-5104-498c-b9d5-2ce06d66391f', embedding=None, metadata={'page_label': '1', 'file_name': 'SEAN_INC_FUTURE_PRODUCTS.pdf', 'file_path': 'domain_data\\\\SEAN_INC_FUTURE_PRODUCTS.pdf', 'file_type': 'application/pdf', 'file_size': 90490, 'creation_date': '2024-02-03', 'last_modified_date': '2024-02-03', 'last_accessed_date': '2024-02-03'}, excluded_embed_metadata_keys=['file_name', 'file_type', 'file_size', 'creation_date', 'last_modified_date', 'last_accessed_date'], excluded_llm_metadata_keys=['file_name', 'file_type', 'file_size', 'creation_date', 'last_modified_date', 'last_accessed_date'], relationships={}, text='SEAN  INC FUTURE PRODUCTS  \\n \\nThe following document contains information on the product offerings of Sean Inc a futuristic automobil e \\ncompany . \\n \\nMAXIMUS AZ 1 \\nMaximus az1 is a futuristic limousine  developed by SEAN INC . It will be  released on June  2nd, 2027. Maximus \\naz1 is completely electric and requires a charge time of about 4 hours.  \\nThe features include : Jacuzzi, bar  and massage chairs.  \\n \\n \\nLESTEC 13 \\nLestec 13 is a futuristic vehicle  which is being developed for military purposes.  It has 2 attached canons, mines, \\narmored plates and b ulletproof glass.  ', start_char_idx=None, end_char_idx=None, text_template='{metadata_str}\\n\\n{content}', metadata_template='{key}: {value}', metadata_seperator='\\n')]"
      ]
     },
     "execution_count": 2,
     "metadata": {},
     "output_type": "execute_result"
    }
   ],
   "source": [
    "documents"
   ]
  },
  {
   "cell_type": "code",
   "execution_count": 3,
   "metadata": {},
   "outputs": [
    {
     "data": {
      "text/plain": [
       "True"
      ]
     },
     "execution_count": 3,
     "metadata": {},
     "output_type": "execute_result"
    }
   ],
   "source": [
    "import os\n",
    "from dotenv import load_dotenv\n",
    "load_dotenv()\n"
   ]
  },
  {
   "cell_type": "code",
   "execution_count": 4,
   "metadata": {},
   "outputs": [],
   "source": [
    "os.environ['OPENAI_API_KEY']=os.getenv(\"OPENAI_API_KEY\")"
   ]
  },
  {
   "cell_type": "code",
   "execution_count": 5,
   "metadata": {},
   "outputs": [],
   "source": [
    "import openai"
   ]
  },
  {
   "cell_type": "code",
   "execution_count": 6,
   "metadata": {},
   "outputs": [
    {
     "name": "stderr",
     "output_type": "stream",
     "text": [
      "c:\\Users\\seanr\\anaconda3\\envs\\RAG\\lib\\site-packages\\tqdm\\auto.py:21: TqdmWarning: IProgress not found. Please update jupyter and ipywidgets. See https://ipywidgets.readthedocs.io/en/stable/user_install.html\n",
      "  from .autonotebook import tqdm as notebook_tqdm\n",
      "Parsing nodes: 100%|██████████| 2/2 [00:00<?, ?it/s]\n",
      "Generating embeddings: 100%|██████████| 2/2 [00:00<00:00,  4.05it/s]\n"
     ]
    }
   ],
   "source": [
    "index=VectorStoreIndex.from_documents(documents,show_progress=True)"
   ]
  },
  {
   "cell_type": "code",
   "execution_count": 7,
   "metadata": {},
   "outputs": [
    {
     "data": {
      "text/plain": [
       "<llama_index.indices.vector_store.base.VectorStoreIndex at 0x1d3246ffc40>"
      ]
     },
     "execution_count": 7,
     "metadata": {},
     "output_type": "execute_result"
    }
   ],
   "source": [
    "index"
   ]
  },
  {
   "cell_type": "code",
   "execution_count": 8,
   "metadata": {},
   "outputs": [],
   "source": [
    "query_engine=queryindex.as_query_engine()"
   ]
  },
  {
   "cell_type": "code",
   "execution_count": 9,
   "metadata": {},
   "outputs": [
    {
     "data": {
      "text/plain": [
       "Response(response='Lestec 13 is a futuristic vehicle being developed by SEAN INC for military purposes. It is equipped with 2 attached canons, mines, armored plates, and bulletproof glass.', source_nodes=[NodeWithScore(node=TextNode(id_='68a16327-cfe7-4854-b436-3fc01a1349af', embedding=None, metadata={'page_label': '1', 'file_name': 'SEAN_INC_FUTURE_PRODUCTS.pdf', 'file_path': 'domain_data\\\\SEAN_INC_FUTURE_PRODUCTS.pdf', 'file_type': 'application/pdf', 'file_size': 90490, 'creation_date': '2024-02-03', 'last_modified_date': '2024-02-03', 'last_accessed_date': '2024-02-03'}, excluded_embed_metadata_keys=['file_name', 'file_type', 'file_size', 'creation_date', 'last_modified_date', 'last_accessed_date'], excluded_llm_metadata_keys=['file_name', 'file_type', 'file_size', 'creation_date', 'last_modified_date', 'last_accessed_date'], relationships={<NodeRelationship.SOURCE: '1'>: RelatedNodeInfo(node_id='a8baddb3-5104-498c-b9d5-2ce06d66391f', node_type=<ObjectType.DOCUMENT: '4'>, metadata={'page_label': '1', 'file_name': 'SEAN_INC_FUTURE_PRODUCTS.pdf', 'file_path': 'domain_data\\\\SEAN_INC_FUTURE_PRODUCTS.pdf', 'file_type': 'application/pdf', 'file_size': 90490, 'creation_date': '2024-02-03', 'last_modified_date': '2024-02-03', 'last_accessed_date': '2024-02-03'}, hash='4c93488d7feb432ade4cf460f84ea52ffb039fe2d7442e5358f93d5305f6eaba'), <NodeRelationship.PREVIOUS: '2'>: RelatedNodeInfo(node_id='87acc3da-1ddb-4335-97fe-a958552e1a65', node_type=<ObjectType.TEXT: '1'>, metadata={'page_label': '1', 'file_name': 'SEAN_INC_CURRENT_PRODUCTS.pdf', 'file_path': 'domain_data\\\\SEAN_INC_CURRENT_PRODUCTS.pdf', 'file_type': 'application/pdf', 'file_size': 84695, 'creation_date': '2024-02-03', 'last_modified_date': '2024-02-03', 'last_accessed_date': '2024-02-03'}, hash='4a2c7ea92c3c2b809bac29a6e59627de2d32d187df1d6574fe17866e9e91cbb3')}, text='SEAN  INC FUTURE PRODUCTS  \\n \\nThe following document contains information on the product offerings of Sean Inc a futuristic automobil e \\ncompany . \\n \\nMAXIMUS AZ 1 \\nMaximus az1 is a futuristic limousine  developed by SEAN INC . It will be  released on June  2nd, 2027. Maximus \\naz1 is completely electric and requires a charge time of about 4 hours.  \\nThe features include : Jacuzzi, bar  and massage chairs.  \\n \\n \\nLESTEC 13 \\nLestec 13 is a futuristic vehicle  which is being developed for military purposes.  It has 2 attached canons, mines, \\narmored plates and b ulletproof glass.', start_char_idx=0, end_char_idx=581, text_template='{metadata_str}\\n\\n{content}', metadata_template='{key}: {value}', metadata_seperator='\\n'), score=0.750902480366983), NodeWithScore(node=TextNode(id_='87acc3da-1ddb-4335-97fe-a958552e1a65', embedding=None, metadata={'page_label': '1', 'file_name': 'SEAN_INC_CURRENT_PRODUCTS.pdf', 'file_path': 'domain_data\\\\SEAN_INC_CURRENT_PRODUCTS.pdf', 'file_type': 'application/pdf', 'file_size': 84695, 'creation_date': '2024-02-03', 'last_modified_date': '2024-02-03', 'last_accessed_date': '2024-02-03'}, excluded_embed_metadata_keys=['file_name', 'file_type', 'file_size', 'creation_date', 'last_modified_date', 'last_accessed_date'], excluded_llm_metadata_keys=['file_name', 'file_type', 'file_size', 'creation_date', 'last_modified_date', 'last_accessed_date'], relationships={<NodeRelationship.SOURCE: '1'>: RelatedNodeInfo(node_id='a50491f6-653e-4854-9df2-9a008c02c921', node_type=<ObjectType.DOCUMENT: '4'>, metadata={'page_label': '1', 'file_name': 'SEAN_INC_CURRENT_PRODUCTS.pdf', 'file_path': 'domain_data\\\\SEAN_INC_CURRENT_PRODUCTS.pdf', 'file_type': 'application/pdf', 'file_size': 84695, 'creation_date': '2024-02-03', 'last_modified_date': '2024-02-03', 'last_accessed_date': '2024-02-03'}, hash='478297c19b2b1d578d9316a6d40851f110ff2f4eb84bb1c51c065e5d250c699f'), <NodeRelationship.NEXT: '3'>: RelatedNodeInfo(node_id='68a16327-cfe7-4854-b436-3fc01a1349af', node_type=<ObjectType.TEXT: '1'>, metadata={}, hash='5667ad41870c991c22eecba0fbf46f101959ad6e82fb33b05fd56f5b9b77e758')}, text='SEAN  INC CURRENT PRODUCTS  \\n \\nThe following document contains information on the product offerings of Sean Inc a futuristic automobil e \\ncompany . \\n \\nSOLOROID  \\nSoloroid  is a futuristic flying car developed by SEAN INC . It was released on June  2nd, 2023. Soloroid is \\ncompletely electric and requires a charge time of about 2 hours. User can choose drive mode or fly mode  on \\njust a press of a button.  \\n \\nTESLU MODEL K  \\nTeslu model K is futuristic car which can turn into a boat . It consists of sensors which automatically detects \\nwater bodies and makes and adjustment to the tire to stay afloat . It was released on December 1st, 2021 .', start_char_idx=0, end_char_idx=646, text_template='{metadata_str}\\n\\n{content}', metadata_template='{key}: {value}', metadata_seperator='\\n'), score=0.6832276883292646)], metadata={'68a16327-cfe7-4854-b436-3fc01a1349af': {'page_label': '1', 'file_name': 'SEAN_INC_FUTURE_PRODUCTS.pdf', 'file_path': 'domain_data\\\\SEAN_INC_FUTURE_PRODUCTS.pdf', 'file_type': 'application/pdf', 'file_size': 90490, 'creation_date': '2024-02-03', 'last_modified_date': '2024-02-03', 'last_accessed_date': '2024-02-03'}, '87acc3da-1ddb-4335-97fe-a958552e1a65': {'page_label': '1', 'file_name': 'SEAN_INC_CURRENT_PRODUCTS.pdf', 'file_path': 'domain_data\\\\SEAN_INC_CURRENT_PRODUCTS.pdf', 'file_type': 'application/pdf', 'file_size': 84695, 'creation_date': '2024-02-03', 'last_modified_date': '2024-02-03', 'last_accessed_date': '2024-02-03'}})"
      ]
     },
     "execution_count": 9,
     "metadata": {},
     "output_type": "execute_result"
    }
   ],
   "source": [
    "query_engine.query(\"What is lestec 13\")"
   ]
  }
 ],
 "metadata": {
  "kernelspec": {
   "display_name": "RAG",
   "language": "python",
   "name": "python3"
  },
  "language_info": {
   "codemirror_mode": {
    "name": "ipython",
    "version": 3
   },
   "file_extension": ".py",
   "mimetype": "text/x-python",
   "name": "python",
   "nbconvert_exporter": "python",
   "pygments_lexer": "ipython3",
   "version": "3.10.0"
  }
 },
 "nbformat": 4,
 "nbformat_minor": 2
}
